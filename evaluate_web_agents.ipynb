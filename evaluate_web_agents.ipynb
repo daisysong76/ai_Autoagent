{
  "nbformat": 4,
  "nbformat_minor": 0,
  "metadata": {
    "colab": {
      "provenance": [],
      "authorship_tag": "ABX9TyNcJ/vtztAMA7s8++CFDrB8",
      "include_colab_link": true
    },
    "kernelspec": {
      "name": "python3",
      "display_name": "Python 3"
    },
    "language_info": {
      "name": "python"
    }
  },
  "cells": [
    {
      "cell_type": "markdown",
      "metadata": {
        "id": "view-in-github",
        "colab_type": "text"
      },
      "source": [
        "<a href=\"https://colab.research.google.com/github/daisysong76/ai_Autoagent/blob/main/evaluate_web_agents.ipynb\" target=\"_parent\"><img src=\"https://colab.research.google.com/assets/colab-badge.svg\" alt=\"Open In Colab\"/></a>"
      ]
    },
    {
      "cell_type": "code",
      "execution_count": null,
      "metadata": {
        "id": "XOF5leucx2T5"
      },
      "outputs": [],
      "source": []
    },
    {
      "cell_type": "markdown",
      "source": [
        "How do we evaluate web agents?\n",
        "1 Point\n",
        "Grading comment:\n",
        "\n",
        "Choice 1 of 4:By testing their performance on real-world scenarios and assessing both their actions and final outcomes, with setups that can be hosted locally or run remotely\n",
        "\n",
        "Choice 2 of 4:By measuring their ability to remember and replicate exact sequences of actions\n",
        "\n",
        "Choice 3 of 4:By exclusively running tests on local servers to control for external variables like network latency\n",
        "\n",
        "Choice 4 of 4:By focusing on their performance with simple, open-source software to avoid complex configurations"
      ],
      "metadata": {
        "id": "7ydGqcbLx2_a"
      }
    }
  ]
}