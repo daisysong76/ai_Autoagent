{
  "nbformat": 4,
  "nbformat_minor": 0,
  "metadata": {
    "colab": {
      "provenance": [],
      "authorship_tag": "ABX9TyOeZ0qZ9KmrGRvJDiIV7ZG+",
      "include_colab_link": true
    },
    "kernelspec": {
      "name": "python3",
      "display_name": "Python 3"
    },
    "language_info": {
      "name": "python"
    }
  },
  "cells": [
    {
      "cell_type": "markdown",
      "metadata": {
        "id": "view-in-github",
        "colab_type": "text"
      },
      "source": [
        "<a href=\"https://colab.research.google.com/github/daisysong76/ai_Autoagent/blob/main/ConversableAgent.ipynb\" target=\"_parent\"><img src=\"https://colab.research.google.com/assets/colab-badge.svg\" alt=\"Open In Colab\"/></a>"
      ]
    },
    {
      "cell_type": "code",
      "source": [
        "!pip install altgraph==0.17.4 \\\n",
        "annotated-types==0.7.0 \\\n",
        "anyio==4.4.0 \\\n",
        "autogen==0.3.0 \\\n",
        "certifi==2024.8.30 \\\n",
        "cffi==1.17.1 \\\n",
        "charset-normalizer==3.3.2 \\\n",
        "cryptography==43.0.1 \\\n",
        "Cython==3.0.11 \\\n",
        "diskcache==5.6.3 \\\n",
        "distro==1.9.0 \\\n",
        "docker==7.1.0 \\\n",
        "FLAML==2.2.0 \\\n",
        "h11==0.14.0 \\\n",
        "httpcore==1.0.5 \\\n",
        "httpx==0.27.2 \\\n",
        "idna==3.8 \\\n",
        "jiter==0.5.0 \\\n",
        "joblib==1.4.2 \\\n",
        "numpy==1.26.4 \\\n",
        "openai==1.44.1 \\\n",
        "packaging==24.1 \\\n",
        "pandas==2.2.3 \\\n",
        "pyarmor==8.5.11 \\\n",
        "pyarmor.cli.core==6.5.3 \\\n",
        "pycparser==2.22 \\\n",
        "pydantic==2.9.1 \\\n",
        "pydantic_core==2.23.3 \\\n",
        "pyinstaller==6.10.0 \\\n",
        "pyinstaller-hooks-contrib==2024.8 \\\n",
        "python-dateutil==2.9.0.post0 \\\n",
        "python-dotenv==1.0.1 \\\n",
        "pytz==2024.2 \\\n",
        "regex==2024.7.24 \\\n",
        "requests==2.32.3 \\\n",
        "scikit-learn==1.5.2 \\\n",
        "scipy==1.14.1 \\\n",
        "six==1.16.0 \\\n",
        "sniffio==1.3.1 \\\n",
        "termcolor==2.4.0 \\\n",
        "threadpoolctl==3.5.0 \\\n",
        "tiktoken==0.7.0 \\\n",
        "tqdm==4.66.5 \\\n",
        "typing_extensions==4.12.2 \\\n",
        "tzdata==2024.1 \\\n",
        "urllib3==2.2.2\n"
      ],
      "metadata": {
        "colab": {
          "base_uri": "https://localhost:8080/",
          "height": 1000
        },
        "collapsed": true,
        "id": "MBKd4sEqtlY3",
        "outputId": "7c3a631c-2fec-475a-9b6a-6a51af41cf49"
      },
      "execution_count": 2,
      "outputs": [
        {
          "output_type": "stream",
          "name": "stdout",
          "text": [
            "Collecting altgraph==0.17.4\n",
            "  Downloading altgraph-0.17.4-py2.py3-none-any.whl.metadata (7.3 kB)\n",
            "Requirement already satisfied: annotated-types==0.7.0 in /usr/local/lib/python3.10/dist-packages (0.7.0)\n",
            "Collecting anyio==4.4.0\n",
            "  Downloading anyio-4.4.0-py3-none-any.whl.metadata (4.6 kB)\n",
            "Collecting autogen==0.3.0\n",
            "  Downloading autogen-0.3.0-py3-none-any.whl.metadata (26 kB)\n",
            "Requirement already satisfied: certifi==2024.8.30 in /usr/local/lib/python3.10/dist-packages (2024.8.30)\n",
            "Requirement already satisfied: cffi==1.17.1 in /usr/local/lib/python3.10/dist-packages (1.17.1)\n",
            "Requirement already satisfied: charset-normalizer==3.3.2 in /usr/local/lib/python3.10/dist-packages (3.3.2)\n",
            "Requirement already satisfied: cryptography==43.0.1 in /usr/local/lib/python3.10/dist-packages (43.0.1)\n",
            "Requirement already satisfied: Cython==3.0.11 in /usr/local/lib/python3.10/dist-packages (3.0.11)\n",
            "Collecting diskcache==5.6.3\n",
            "  Downloading diskcache-5.6.3-py3-none-any.whl.metadata (20 kB)\n",
            "Collecting distro==1.9.0\n",
            "  Downloading distro-1.9.0-py3-none-any.whl.metadata (6.8 kB)\n",
            "Collecting docker==7.1.0\n",
            "  Downloading docker-7.1.0-py3-none-any.whl.metadata (3.8 kB)\n",
            "Collecting FLAML==2.2.0\n",
            "  Downloading FLAML-2.2.0-py3-none-any.whl.metadata (15 kB)\n",
            "Collecting h11==0.14.0\n",
            "  Downloading h11-0.14.0-py3-none-any.whl.metadata (8.2 kB)\n",
            "Collecting httpcore==1.0.5\n",
            "  Downloading httpcore-1.0.5-py3-none-any.whl.metadata (20 kB)\n",
            "Collecting httpx==0.27.2\n",
            "  Downloading httpx-0.27.2-py3-none-any.whl.metadata (7.1 kB)\n",
            "Collecting idna==3.8\n",
            "  Downloading idna-3.8-py3-none-any.whl.metadata (9.9 kB)\n",
            "Collecting jiter==0.5.0\n",
            "  Downloading jiter-0.5.0-cp310-cp310-manylinux_2_17_x86_64.manylinux2014_x86_64.whl.metadata (3.6 kB)\n",
            "Requirement already satisfied: joblib==1.4.2 in /usr/local/lib/python3.10/dist-packages (1.4.2)\n",
            "Requirement already satisfied: numpy==1.26.4 in /usr/local/lib/python3.10/dist-packages (1.26.4)\n",
            "Collecting openai==1.44.1\n",
            "  Downloading openai-1.44.1-py3-none-any.whl.metadata (22 kB)\n",
            "Requirement already satisfied: packaging==24.1 in /usr/local/lib/python3.10/dist-packages (24.1)\n",
            "Collecting pandas==2.2.3\n",
            "  Downloading pandas-2.2.3-cp310-cp310-manylinux_2_17_x86_64.manylinux2014_x86_64.whl.metadata (89 kB)\n",
            "\u001b[2K     \u001b[90m━━━━━━━━━━━━━━━━━━━━━━━━━━━━━━━━━━━━━━━━\u001b[0m \u001b[32m89.9/89.9 kB\u001b[0m \u001b[31m4.2 MB/s\u001b[0m eta \u001b[36m0:00:00\u001b[0m\n",
            "\u001b[?25hCollecting pyarmor==8.5.11\n",
            "  Downloading pyarmor-8.5.11-py3-none-any.whl.metadata (2.6 kB)\n",
            "Collecting pyarmor.cli.core==6.5.3\n",
            "  Downloading pyarmor.cli.core-6.5.3-cp310-none-manylinux1_x86_64.whl.metadata (3.0 kB)\n",
            "Requirement already satisfied: pycparser==2.22 in /usr/local/lib/python3.10/dist-packages (2.22)\n",
            "Collecting pydantic==2.9.1\n",
            "  Downloading pydantic-2.9.1-py3-none-any.whl.metadata (146 kB)\n",
            "\u001b[2K     \u001b[90m━━━━━━━━━━━━━━━━━━━━━━━━━━━━━━━━━━━━━━━━\u001b[0m \u001b[32m147.0/147.0 kB\u001b[0m \u001b[31m13.0 MB/s\u001b[0m eta \u001b[36m0:00:00\u001b[0m\n",
            "\u001b[?25hCollecting pydantic_core==2.23.3\n",
            "  Downloading pydantic_core-2.23.3-cp310-cp310-manylinux_2_17_x86_64.manylinux2014_x86_64.whl.metadata (6.6 kB)\n",
            "Collecting pyinstaller==6.10.0\n",
            "  Downloading pyinstaller-6.10.0-py3-none-manylinux2014_x86_64.whl.metadata (8.3 kB)\n",
            "Collecting pyinstaller-hooks-contrib==2024.8\n",
            "  Downloading pyinstaller_hooks_contrib-2024.8-py3-none-any.whl.metadata (16 kB)\n",
            "Collecting python-dateutil==2.9.0.post0\n",
            "  Downloading python_dateutil-2.9.0.post0-py2.py3-none-any.whl.metadata (8.4 kB)\n",
            "Collecting python-dotenv==1.0.1\n",
            "  Downloading python_dotenv-1.0.1-py3-none-any.whl.metadata (23 kB)\n",
            "Requirement already satisfied: pytz==2024.2 in /usr/local/lib/python3.10/dist-packages (2024.2)\n",
            "Collecting regex==2024.7.24\n",
            "  Downloading regex-2024.7.24-cp310-cp310-manylinux_2_17_x86_64.manylinux2014_x86_64.whl.metadata (40 kB)\n",
            "\u001b[2K     \u001b[90m━━━━━━━━━━━━━━━━━━━━━━━━━━━━━━━━━━━━━━━━\u001b[0m \u001b[32m40.5/40.5 kB\u001b[0m \u001b[31m3.3 MB/s\u001b[0m eta \u001b[36m0:00:00\u001b[0m\n",
            "\u001b[?25hRequirement already satisfied: requests==2.32.3 in /usr/local/lib/python3.10/dist-packages (2.32.3)\n",
            "Requirement already satisfied: scikit-learn==1.5.2 in /usr/local/lib/python3.10/dist-packages (1.5.2)\n",
            "Collecting scipy==1.14.1\n",
            "  Downloading scipy-1.14.1-cp310-cp310-manylinux_2_17_x86_64.manylinux2014_x86_64.whl.metadata (60 kB)\n",
            "\u001b[2K     \u001b[90m━━━━━━━━━━━━━━━━━━━━━━━━━━━━━━━━━━━━━━━━\u001b[0m \u001b[32m60.8/60.8 kB\u001b[0m \u001b[31m6.0 MB/s\u001b[0m eta \u001b[36m0:00:00\u001b[0m\n",
            "\u001b[?25hRequirement already satisfied: six==1.16.0 in /usr/local/lib/python3.10/dist-packages (1.16.0)\n",
            "Requirement already satisfied: sniffio==1.3.1 in /usr/local/lib/python3.10/dist-packages (1.3.1)\n",
            "Collecting termcolor==2.4.0\n",
            "  Downloading termcolor-2.4.0-py3-none-any.whl.metadata (6.1 kB)\n",
            "Requirement already satisfied: threadpoolctl==3.5.0 in /usr/local/lib/python3.10/dist-packages (3.5.0)\n",
            "Collecting tiktoken==0.7.0\n",
            "  Downloading tiktoken-0.7.0-cp310-cp310-manylinux_2_17_x86_64.manylinux2014_x86_64.whl.metadata (6.6 kB)\n",
            "Requirement already satisfied: tqdm==4.66.5 in /usr/local/lib/python3.10/dist-packages (4.66.5)\n",
            "Requirement already satisfied: typing_extensions==4.12.2 in /usr/local/lib/python3.10/dist-packages (4.12.2)\n",
            "Collecting tzdata==2024.1\n",
            "  Downloading tzdata-2024.1-py2.py3-none-any.whl.metadata (1.4 kB)\n",
            "Collecting urllib3==2.2.2\n",
            "  Downloading urllib3-2.2.2-py3-none-any.whl.metadata (6.4 kB)\n",
            "Requirement already satisfied: exceptiongroup>=1.0.2 in /usr/local/lib/python3.10/dist-packages (from anyio==4.4.0) (1.2.2)\n",
            "Requirement already satisfied: setuptools>=42.0.0 in /usr/local/lib/python3.10/dist-packages (from pyinstaller==6.10.0) (71.0.4)\n",
            "Downloading altgraph-0.17.4-py2.py3-none-any.whl (21 kB)\n",
            "Downloading anyio-4.4.0-py3-none-any.whl (86 kB)\n",
            "\u001b[2K   \u001b[90m━━━━━━━━━━━━━━━━━━━━━━━━━━━━━━━━━━━━━━━━\u001b[0m \u001b[32m86.8/86.8 kB\u001b[0m \u001b[31m9.2 MB/s\u001b[0m eta \u001b[36m0:00:00\u001b[0m\n",
            "\u001b[?25hDownloading autogen-0.3.0-py3-none-any.whl (345 kB)\n",
            "\u001b[2K   \u001b[90m━━━━━━━━━━━━━━━━━━━━━━━━━━━━━━━━━━━━━━━━\u001b[0m \u001b[32m345.2/345.2 kB\u001b[0m \u001b[31m13.2 MB/s\u001b[0m eta \u001b[36m0:00:00\u001b[0m\n",
            "\u001b[?25hDownloading diskcache-5.6.3-py3-none-any.whl (45 kB)\n",
            "\u001b[2K   \u001b[90m━━━━━━━━━━━━━━━━━━━━━━━━━━━━━━━━━━━━━━━━\u001b[0m \u001b[32m45.5/45.5 kB\u001b[0m \u001b[31m4.6 MB/s\u001b[0m eta \u001b[36m0:00:00\u001b[0m\n",
            "\u001b[?25hDownloading distro-1.9.0-py3-none-any.whl (20 kB)\n",
            "Downloading docker-7.1.0-py3-none-any.whl (147 kB)\n",
            "\u001b[2K   \u001b[90m━━━━━━━━━━━━━━━━━━━━━━━━━━━━━━━━━━━━━━━━\u001b[0m \u001b[32m147.8/147.8 kB\u001b[0m \u001b[31m14.9 MB/s\u001b[0m eta \u001b[36m0:00:00\u001b[0m\n",
            "\u001b[?25hDownloading FLAML-2.2.0-py3-none-any.whl (297 kB)\n",
            "\u001b[2K   \u001b[90m━━━━━━━━━━━━━━━━━━━━━━━━━━━━━━━━━━━━━━━━\u001b[0m \u001b[32m297.2/297.2 kB\u001b[0m \u001b[31m27.6 MB/s\u001b[0m eta \u001b[36m0:00:00\u001b[0m\n",
            "\u001b[?25hDownloading h11-0.14.0-py3-none-any.whl (58 kB)\n",
            "\u001b[2K   \u001b[90m━━━━━━━━━━━━━━━━━━━━━━━━━━━━━━━━━━━━━━━━\u001b[0m \u001b[32m58.3/58.3 kB\u001b[0m \u001b[31m6.0 MB/s\u001b[0m eta \u001b[36m0:00:00\u001b[0m\n",
            "\u001b[?25hDownloading httpcore-1.0.5-py3-none-any.whl (77 kB)\n",
            "\u001b[2K   \u001b[90m━━━━━━━━━━━━━━━━━━━━━━━━━━━━━━━━━━━━━━━━\u001b[0m \u001b[32m77.9/77.9 kB\u001b[0m \u001b[31m8.2 MB/s\u001b[0m eta \u001b[36m0:00:00\u001b[0m\n",
            "\u001b[?25hDownloading httpx-0.27.2-py3-none-any.whl (76 kB)\n",
            "\u001b[2K   \u001b[90m━━━━━━━━━━━━━━━━━━━━━━━━━━━━━━━━━━━━━━━━\u001b[0m \u001b[32m76.4/76.4 kB\u001b[0m \u001b[31m8.1 MB/s\u001b[0m eta \u001b[36m0:00:00\u001b[0m\n",
            "\u001b[?25hDownloading idna-3.8-py3-none-any.whl (66 kB)\n",
            "\u001b[2K   \u001b[90m━━━━━━━━━━━━━━━━━━━━━━━━━━━━━━━━━━━━━━━━\u001b[0m \u001b[32m66.9/66.9 kB\u001b[0m \u001b[31m7.8 MB/s\u001b[0m eta \u001b[36m0:00:00\u001b[0m\n",
            "\u001b[?25hDownloading jiter-0.5.0-cp310-cp310-manylinux_2_17_x86_64.manylinux2014_x86_64.whl (318 kB)\n",
            "\u001b[2K   \u001b[90m━━━━━━━━━━━━━━━━━━━━━━━━━━━━━━━━━━━━━━━━\u001b[0m \u001b[32m318.9/318.9 kB\u001b[0m \u001b[31m24.0 MB/s\u001b[0m eta \u001b[36m0:00:00\u001b[0m\n",
            "\u001b[?25hDownloading openai-1.44.1-py3-none-any.whl (373 kB)\n",
            "\u001b[2K   \u001b[90m━━━━━━━━━━━━━━━━━━━━━━━━━━━━━━━━━━━━━━━━\u001b[0m \u001b[32m373.5/373.5 kB\u001b[0m \u001b[31m25.5 MB/s\u001b[0m eta \u001b[36m0:00:00\u001b[0m\n",
            "\u001b[?25hDownloading pandas-2.2.3-cp310-cp310-manylinux_2_17_x86_64.manylinux2014_x86_64.whl (13.1 MB)\n",
            "\u001b[2K   \u001b[90m━━━━━━━━━━━━━━━━━━━━━━━━━━━━━━━━━━━━━━━━\u001b[0m \u001b[32m13.1/13.1 MB\u001b[0m \u001b[31m91.4 MB/s\u001b[0m eta \u001b[36m0:00:00\u001b[0m\n",
            "\u001b[?25hDownloading pyarmor-8.5.11-py3-none-any.whl (2.7 MB)\n",
            "\u001b[2K   \u001b[90m━━━━━━━━━━━━━━━━━━━━━━━━━━━━━━━━━━━━━━━━\u001b[0m \u001b[32m2.7/2.7 MB\u001b[0m \u001b[31m86.0 MB/s\u001b[0m eta \u001b[36m0:00:00\u001b[0m\n",
            "\u001b[?25hDownloading pyarmor.cli.core-6.5.3-cp310-none-manylinux1_x86_64.whl (449 kB)\n",
            "\u001b[2K   \u001b[90m━━━━━━━━━━━━━━━━━━━━━━━━━━━━━━━━━━━━━━━━\u001b[0m \u001b[32m449.2/449.2 kB\u001b[0m \u001b[31m36.9 MB/s\u001b[0m eta \u001b[36m0:00:00\u001b[0m\n",
            "\u001b[?25hDownloading pydantic-2.9.1-py3-none-any.whl (434 kB)\n",
            "\u001b[2K   \u001b[90m━━━━━━━━━━━━━━━━━━━━━━━━━━━━━━━━━━━━━━━━\u001b[0m \u001b[32m434.4/434.4 kB\u001b[0m \u001b[31m29.0 MB/s\u001b[0m eta \u001b[36m0:00:00\u001b[0m\n",
            "\u001b[?25hDownloading pydantic_core-2.23.3-cp310-cp310-manylinux_2_17_x86_64.manylinux2014_x86_64.whl (2.1 MB)\n",
            "\u001b[2K   \u001b[90m━━━━━━━━━━━━━━━━━━━━━━━━━━━━━━━━━━━━━━━━\u001b[0m \u001b[32m2.1/2.1 MB\u001b[0m \u001b[31m58.9 MB/s\u001b[0m eta \u001b[36m0:00:00\u001b[0m\n",
            "\u001b[?25hDownloading pyinstaller-6.10.0-py3-none-manylinux2014_x86_64.whl (703 kB)\n",
            "\u001b[2K   \u001b[90m━━━━━━━━━━━━━━━━━━━━━━━━━━━━━━━━━━━━━━━━\u001b[0m \u001b[32m703.3/703.3 kB\u001b[0m \u001b[31m52.3 MB/s\u001b[0m eta \u001b[36m0:00:00\u001b[0m\n",
            "\u001b[?25hDownloading pyinstaller_hooks_contrib-2024.8-py3-none-any.whl (322 kB)\n",
            "\u001b[2K   \u001b[90m━━━━━━━━━━━━━━━━━━━━━━━━━━━━━━━━━━━━━━━━\u001b[0m \u001b[32m322.8/322.8 kB\u001b[0m \u001b[31m28.3 MB/s\u001b[0m eta \u001b[36m0:00:00\u001b[0m\n",
            "\u001b[?25hDownloading python_dateutil-2.9.0.post0-py2.py3-none-any.whl (229 kB)\n",
            "\u001b[2K   \u001b[90m━━━━━━━━━━━━━━━━━━━━━━━━━━━━━━━━━━━━━━━━\u001b[0m \u001b[32m229.9/229.9 kB\u001b[0m \u001b[31m22.9 MB/s\u001b[0m eta \u001b[36m0:00:00\u001b[0m\n",
            "\u001b[?25hDownloading python_dotenv-1.0.1-py3-none-any.whl (19 kB)\n",
            "Downloading regex-2024.7.24-cp310-cp310-manylinux_2_17_x86_64.manylinux2014_x86_64.whl (776 kB)\n",
            "\u001b[2K   \u001b[90m━━━━━━━━━━━━━━━━━━━━━━━━━━━━━━━━━━━━━━━━\u001b[0m \u001b[32m776.5/776.5 kB\u001b[0m \u001b[31m50.2 MB/s\u001b[0m eta \u001b[36m0:00:00\u001b[0m\n",
            "\u001b[?25hDownloading scipy-1.14.1-cp310-cp310-manylinux_2_17_x86_64.manylinux2014_x86_64.whl (41.2 MB)\n",
            "\u001b[2K   \u001b[90m━━━━━━━━━━━━━━━━━━━━━━━━━━━━━━━━━━━━━━━━\u001b[0m \u001b[32m41.2/41.2 MB\u001b[0m \u001b[31m23.6 MB/s\u001b[0m eta \u001b[36m0:00:00\u001b[0m\n",
            "\u001b[?25hDownloading termcolor-2.4.0-py3-none-any.whl (7.7 kB)\n",
            "Downloading tiktoken-0.7.0-cp310-cp310-manylinux_2_17_x86_64.manylinux2014_x86_64.whl (1.1 MB)\n",
            "\u001b[2K   \u001b[90m━━━━━━━━━━━━━━━━━━━━━━━━━━━━━━━━━━━━━━━━\u001b[0m \u001b[32m1.1/1.1 MB\u001b[0m \u001b[31m59.4 MB/s\u001b[0m eta \u001b[36m0:00:00\u001b[0m\n",
            "\u001b[?25hDownloading tzdata-2024.1-py2.py3-none-any.whl (345 kB)\n",
            "\u001b[2K   \u001b[90m━━━━━━━━━━━━━━━━━━━━━━━━━━━━━━━━━━━━━━━━\u001b[0m \u001b[32m345.4/345.4 kB\u001b[0m \u001b[31m30.9 MB/s\u001b[0m eta \u001b[36m0:00:00\u001b[0m\n",
            "\u001b[?25hDownloading urllib3-2.2.2-py3-none-any.whl (121 kB)\n",
            "\u001b[2K   \u001b[90m━━━━━━━━━━━━━━━━━━━━━━━━━━━━━━━━━━━━━━━━\u001b[0m \u001b[32m121.4/121.4 kB\u001b[0m \u001b[31m12.1 MB/s\u001b[0m eta \u001b[36m0:00:00\u001b[0m\n",
            "\u001b[?25hInstalling collected packages: pyarmor.cli.core, altgraph, urllib3, tzdata, termcolor, scipy, regex, python-dotenv, python-dateutil, pyinstaller-hooks-contrib, pydantic_core, pyarmor, jiter, idna, h11, FLAML, distro, diskcache, pyinstaller, pydantic, pandas, httpcore, anyio, tiktoken, httpx, docker, openai, autogen\n",
            "  Attempting uninstall: urllib3\n",
            "    Found existing installation: urllib3 2.2.3\n",
            "    Uninstalling urllib3-2.2.3:\n",
            "      Successfully uninstalled urllib3-2.2.3\n",
            "  Attempting uninstall: tzdata\n",
            "    Found existing installation: tzdata 2024.2\n",
            "    Uninstalling tzdata-2024.2:\n",
            "      Successfully uninstalled tzdata-2024.2\n",
            "  Attempting uninstall: termcolor\n",
            "    Found existing installation: termcolor 2.5.0\n",
            "    Uninstalling termcolor-2.5.0:\n",
            "      Successfully uninstalled termcolor-2.5.0\n",
            "  Attempting uninstall: scipy\n",
            "    Found existing installation: scipy 1.13.1\n",
            "    Uninstalling scipy-1.13.1:\n",
            "      Successfully uninstalled scipy-1.13.1\n",
            "  Attempting uninstall: regex\n",
            "    Found existing installation: regex 2024.9.11\n",
            "    Uninstalling regex-2024.9.11:\n",
            "      Successfully uninstalled regex-2024.9.11\n",
            "  Attempting uninstall: python-dateutil\n",
            "    Found existing installation: python-dateutil 2.8.2\n",
            "    Uninstalling python-dateutil-2.8.2:\n",
            "      Successfully uninstalled python-dateutil-2.8.2\n",
            "  Attempting uninstall: pydantic_core\n",
            "    Found existing installation: pydantic_core 2.23.4\n",
            "    Uninstalling pydantic_core-2.23.4:\n",
            "      Successfully uninstalled pydantic_core-2.23.4\n",
            "  Attempting uninstall: idna\n",
            "    Found existing installation: idna 3.10\n",
            "    Uninstalling idna-3.10:\n",
            "      Successfully uninstalled idna-3.10\n",
            "  Attempting uninstall: distro\n",
            "    Found existing installation: distro 1.7.0\n",
            "    Uninstalling distro-1.7.0:\n",
            "      Successfully uninstalled distro-1.7.0\n",
            "  Attempting uninstall: pydantic\n",
            "    Found existing installation: pydantic 2.9.2\n",
            "    Uninstalling pydantic-2.9.2:\n",
            "      Successfully uninstalled pydantic-2.9.2\n",
            "  Attempting uninstall: pandas\n",
            "    Found existing installation: pandas 2.2.2\n",
            "    Uninstalling pandas-2.2.2:\n",
            "      Successfully uninstalled pandas-2.2.2\n",
            "  Attempting uninstall: anyio\n",
            "    Found existing installation: anyio 3.7.1\n",
            "    Uninstalling anyio-3.7.1:\n",
            "      Successfully uninstalled anyio-3.7.1\n",
            "\u001b[31mERROR: pip's dependency resolver does not currently take into account all the packages that are installed. This behaviour is the source of the following dependency conflicts.\n",
            "cudf-cu12 24.6.1 requires pandas<2.2.3dev0,>=2.0, but you have pandas 2.2.3 which is incompatible.\n",
            "gensim 4.3.3 requires scipy<1.14.0,>=1.7.0, but you have scipy 1.14.1 which is incompatible.\n",
            "google-colab 1.0.0 requires pandas==2.2.2, but you have pandas 2.2.3 which is incompatible.\n",
            "jupyter-server 1.24.0 requires anyio<4,>=3.1.0, but you have anyio 4.4.0 which is incompatible.\u001b[0m\u001b[31m\n",
            "\u001b[0mSuccessfully installed FLAML-2.2.0 altgraph-0.17.4 anyio-4.4.0 autogen-0.3.0 diskcache-5.6.3 distro-1.9.0 docker-7.1.0 h11-0.14.0 httpcore-1.0.5 httpx-0.27.2 idna-3.8 jiter-0.5.0 openai-1.44.1 pandas-2.2.3 pyarmor-8.5.11 pyarmor.cli.core-6.5.3 pydantic-2.9.1 pydantic_core-2.23.3 pyinstaller-6.10.0 pyinstaller-hooks-contrib-2024.8 python-dateutil-2.9.0.post0 python-dotenv-1.0.1 regex-2024.7.24 scipy-1.14.1 termcolor-2.4.0 tiktoken-0.7.0 tzdata-2024.1 urllib3-2.2.2\n"
          ]
        },
        {
          "output_type": "display_data",
          "data": {
            "application/vnd.colab-display-data+json": {
              "pip_warning": {
                "packages": [
                  "dateutil"
                ]
              },
              "id": "a0b54969efa04db8a5ee8ca0e3b8195d"
            }
          },
          "metadata": {}
        }
      ]
    },
    {
      "cell_type": "code",
      "execution_count": 1,
      "metadata": {
        "colab": {
          "base_uri": "https://localhost:8080/"
        },
        "id": "g7n7KeMes36i",
        "outputId": "3c0dfc47-f6cc-4413-925b-d95eef0ea2e7"
      },
      "outputs": [
        {
          "output_type": "stream",
          "name": "stderr",
          "text": [
            "/usr/local/lib/python3.10/dist-packages/dask/dataframe/__init__.py:42: FutureWarning: \n",
            "Dask dataframe query planning is disabled because dask-expr is not installed.\n",
            "\n",
            "You can install it with `pip install dask[dataframe]` or `conda install dask`.\n",
            "This will raise in a future version.\n",
            "\n",
            "  warnings.warn(msg, FutureWarning)\n"
          ]
        }
      ],
      "source": [
        "from typing import Dict, List\n",
        "from autogen import ConversableAgent\n",
        "import sys\n",
        "import os"
      ]
    },
    {
      "cell_type": "code",
      "source": [
        "\n",
        "restaurant_reviews_path = \"/content/restaurant-data.txt\""
      ],
      "metadata": {
        "id": "Gnt9GEOyuLE9"
      },
      "execution_count": 5,
      "outputs": []
    },
    {
      "cell_type": "code",
      "source": [
        "def fetch_restaurant_data(restaurant_name: str) -> Dict[str, List[str]]:\n",
        "    restaurant_reviews={}\n",
        "\n",
        "    with open(restaurant_reviews_path, \"r\") as f:\n",
        "        for line in f:\n",
        "            if \".\" in line:\n",
        "                name, review = line.split(\".\", 1)\n",
        "\n",
        "                if name not in restaurant_reviews:\n",
        "                    restaurant_reviews[name] = []\n",
        "                restaurant_reviews[name].append(review.strip())\n",
        "\n",
        "    return {restaurant_name: restaurant_reviews.get(restaurant_name, [\"No reviews found.\"])}"
      ],
      "metadata": {
        "id": "18m7IofJuOHl"
      },
      "execution_count": 6,
      "outputs": []
    },
    {
      "cell_type": "code",
      "source": [
        "fetch_restaurant_data(\"Applebee's\")"
      ],
      "metadata": {
        "colab": {
          "base_uri": "https://localhost:8080/"
        },
        "id": "OgNGrFwIuRPg",
        "outputId": "a7386354-d48c-4733-9109-6ee9bd1a9084"
      },
      "execution_count": 7,
      "outputs": [
        {
          "output_type": "execute_result",
          "data": {
            "text/plain": [
              "{\"Applebee's\": [\"The food at Applebee's was average, with nothing particularly standout on the menu. However, the customer service was good, with attentive waitstaff and quick service.\",\n",
              "  'The food was uninspiring, with nothing particularly memorable about the dishes. However, the service was good, with attentive and friendly staff.',\n",
              "  'The food was average, but the customer service was enjoyable. Our server was attentive, which made up for the uninspiring menu options.',\n",
              "  \"The food at Applebee's was uninspiring, with nothing that really stood out. However, the customer service was good, with attentive and friendly staff.\",\n",
              "  'The food was average, but the service was good. While the meal was forgettable, our server was attentive and made the experience enjoyable.',\n",
              "  \"The food at Applebee's was uninspiring, with nothing that really stood out. However, the service was good, with attentive and friendly staff.\",\n",
              "  \"The food at Applebee's was average, with nothing particularly standing out on the menu. However, the customer service was good, with attentive and friendly staff.\",\n",
              "  \"Applebee's food was average, with nothing particularly standout on the menu. However, the customer service was good, with attentive and friendly staff.\",\n",
              "  \"The food at Applebee's was uninspiring, lacking any real standout dishes. However, the customer service was good, with attentive and friendly staff.\",\n",
              "  \"The food at Applebee's was uninspiring, with nothing particularly standing out. However, the customer service was good, with attentive waitstaff.\",\n",
              "  \"The food at Applebee's was uninspiring, with nothing particularly memorable about the dishes. However, the service was good, with attentive waitstaff throughout the meal.\",\n",
              "  \"The food at Applebee's was average, with nothing particularly memorable. However, the customer service was good, with attentive waitstaff and quick service.\",\n",
              "  \"The food at Applebee's was average, nothing to write home about. However, the customer service was good, with attentive and friendly staff.\",\n",
              "  \"The food at Applebee's was uninspiring, with dishes that lacked creativity. However, the customer service was good, with attentive waitstaff throughout the meal.\",\n",
              "  \"Applebee's provided an average meal with forgettable flavors. However, the customer service was good, with attentive waitstaff making the experience more enjoyable.\",\n",
              "  \"The food at Applebee's was uninspiring, with nothing particularly memorable. However, the customer service was good, with attentive and friendly staff.\",\n",
              "  'The food was average, typical chain restaurant fare. However, the customer service was good, with attentive waitstaff and quick service.',\n",
              "  'The food was uninspiring, typical chain restaurant fare. However, the service was good, with attentive waitstaff and quick refills.',\n",
              "  \"The food at Applebee's was uninspiring, with nothing particularly memorable. However, the customer service was good, with attentive waitstaff.\",\n",
              "  \"The food at Applebee's was uninspiring, with nothing particularly memorable. However, the customer service was good, with attentive waitstaff throughout the meal.\",\n",
              "  \"The food at Applebee's was average, with nothing particularly standout on the menu. However, the customer service was good, with attentive waitstaff.\",\n",
              "  \"The food at Applebee's was forgettable, with nothing particularly standing out. However, the customer service was good, with attentive waitstaff and quick refills.\",\n",
              "  \"The food at Applebee's was uninspiring, lacking any standout dishes. However, the customer service was good, with attentive waitstaff throughout the meal.\",\n",
              "  \"The food at Applebee's was average, with nothing particularly standout on the menu. However, the customer service was good, with attentive and friendly staff.\",\n",
              "  \"The food at Applebee's was average, with nothing particularly memorable. However, the customer service was good, with attentive and friendly staff.\",\n",
              "  \"The food at Applebee's was average, with nothing particularly memorable. However, the customer service was good, with attentive and friendly staff.\",\n",
              "  \"The food at Applebee's was uninspiring, with nothing that really stood out. However, the customer service was good, with attentive waitstaff throughout the meal.\",\n",
              "  \"The food at Applebee's was average, with nothing particularly standing out. However, the customer service was satisfying, with attentive and friendly staff.\",\n",
              "  \"The food at Applebee's was average, with nothing particularly memorable. However, the customer service was enjoyable, with attentive waitstaff.\",\n",
              "  \"The food at Applebee's was uninspiring, with standard chain restaurant fare. However, the customer service was good, with attentive waitstaff.\",\n",
              "  \"Applebee's offered an average dining experience with forgettable food. However, the customer service was good, with attentive waitstaff making up for the uninspiring cuisine.\",\n",
              "  \"The food at Applebee's was uninspiring, with nothing particularly standing out. However, the customer service was good, with attentive waitstaff and quick service.\",\n",
              "  \"The food at Applebee's was average, with typical chain restaurant fare. However, the customer service was good, with attentive waitstaff.\",\n",
              "  \"The food at Applebee's was average, with nothing particularly memorable. However, the customer service was good, with attentive waitstaff.\",\n",
              "  \"The food at Applebee's was average, with nothing particularly memorable. However, the customer service was good, with attentive waitstaff.\",\n",
              "  \"The food at Applebee's was uninspiring, with typical chain restaurant fare. However, the customer service was good, with attentive and friendly waitstaff.\",\n",
              "  \"The food at Applebee's was average, but the customer service was good. The forgettable meal was somewhat redeemed by the friendly and attentive staff.\",\n",
              "  \"The food at Applebee's was average, with nothing particularly standing out on the menu. However, the customer service was good, with attentive and friendly staff.\",\n",
              "  \"The food at Applebee's was uninspiring, with standard chain restaurant fare. However, the customer service was satisfying, with attentive waitstaff.\",\n",
              "  \"The food at Applebee's was bad, with overcooked steaks and bland sides. The customer service was equally unpleasant, with inattentive waitstaff and long wait times.\"]}"
            ]
          },
          "metadata": {},
          "execution_count": 7
        }
      ]
    },
    {
      "cell_type": "code",
      "source": [
        "f = fetch_restaurant_data(\"Applebee's\")"
      ],
      "metadata": {
        "id": "UfH3DquxviRL"
      },
      "execution_count": 10,
      "outputs": []
    },
    {
      "cell_type": "code",
      "source": [
        "# Count the number of reviews for Applebee's\n",
        "applebees_reviews_count = len(f[\"Applebee's\"])\n",
        "print(f\"Number of reviews for Applebee's: {applebees_reviews_count}\")"
      ],
      "metadata": {
        "colab": {
          "base_uri": "https://localhost:8080/"
        },
        "id": "nitcyjjJu-UU",
        "outputId": "e3be7c81-ba40-4164-9c6b-235e81e35d54"
      },
      "execution_count": 12,
      "outputs": [
        {
          "output_type": "stream",
          "name": "stdout",
          "text": [
            "Number of reviews for Applebee's: 40\n"
          ]
        }
      ]
    },
    {
      "cell_type": "code",
      "source": [
        "def calculate_overall_score(restaurant_name: str, food_scores: List[int], customer_service_scores: List[int]) -> Dict[str, float]:\n",
        "    # TODO\n",
        "    # This function takes in a restaurant name, a list of food scores from 1-5, and a list of customer service scores from 1-5\n",
        "    # The output should be a score between 0 and 10, which is computed as the following:\n",
        "    # SUM(sqrt(food_scores[i]**2 * customer_service_scores[i]) * 1/(N * sqrt(125)) * 10\n",
        "    # The above formula is a geometric mean of the scores, which penalizes food quality more than customer service.\n",
        "    # Example:\n",
        "    # > calculate_overall_score(\"Applebee's\", [1, 2, 3, 4, 5], [1, 2, 3, 4, 5])\n",
        "    # {\"Applebee's\": 5.048}\n",
        "    # NOTE: be sure to that the score includes AT LEAST 3  decimal places. The public tests will only read scores that have\n",
        "    # at least 3 decimal places.\n",
        "    overall_score=0\n",
        "    N = len(food_scores)\n",
        "    for i in range(N):\n",
        "        overall_score += ((food_scores[i]**2 * customer_service_scores[i]) * 1/(N * (125)**0.5))**0.5\n",
        "    overall_score = round(overall_score * 10, 3)\n",
        "    return {restaurant_name: overall_score}\n",
        "    #pass"
      ],
      "metadata": {
        "id": "ruodJTavvqAI"
      },
      "execution_count": 13,
      "outputs": []
    },
    {
      "cell_type": "code",
      "source": [
        "\n",
        "def get_data_fetch_agent_prompt(restaurant_query: str) -> str:\n",
        "    # TODO\n",
        "    # It may help to organize messages/prompts within a function which returns a string.\n",
        "    # For example, you could use this function to return a prompt for the data fetch agent\n",
        "    # to use to fetch reviews for a specific restaurant.\n",
        "    return f\"please fetch reviews for {restaurant_query}\"\n",
        "    #pass"
      ],
      "metadata": {
        "id": "4swHXsrhvu_E"
      },
      "execution_count": 14,
      "outputs": []
    },
    {
      "cell_type": "code",
      "source": [
        "# TODO: feel free to write as many additional functions as you'd like."
      ],
      "metadata": {
        "id": "-z1Vwjc9_nql"
      },
      "execution_count": null,
      "outputs": []
    },
    {
      "cell_type": "code",
      "source": [
        "# Do not modify the signature of the \"main\" function.\n",
        "def main(user_query: str):\n",
        "    entrypoint_agent_system_message = \"\" # TODO\n",
        "    # example LLM config for the entrypoint agent\n",
        "    llm_config = {\"config_list\": [{\"model\": \"gpt-4o-mini\", \"api_key\": os.environ.get(\"OPENAI_API_KEY\")}]}\n",
        "    # the main entrypoint/supervisor agent\n",
        "    entrypoint_agent = ConversableAgent(\"entrypoint_agent\",\n",
        "                                        system_message=entrypoint_agent_system_message,\n",
        "                                        llm_config=llm_config)\n",
        "    entrypoint_agent.register_for_llm(name=\"fetch_restaurant_data\", description=\"Fetches the reviews for a specific restaurant.\")(fetch_restaurant_data)\n",
        "    entrypoint_agent.register_for_execution(name=\"fetch_restaurant_data\")(fetch_restaurant_data)\n",
        "\n",
        "    # TODO\n",
        "    # Create more agents here.\n",
        "    # Be sure to register them for LLM and execution.\n",
        "    entrypoint_agent.register_for_llm(name=\"review_analysis_agent\", description=\"Analyzes the reviews for a specific restaurant and provides insights.\")(get_data_fetch_agent_prompt)\n",
        "    entrypoint_agent.register_for_execution(name=\"review_analysis_agent\")(get_data_fetch_agent_prompt)\n",
        "\n",
        "    entrypoint_agent.register_for_llm(name=\"calculate_overall_score\", description=\"Calculates the overall score for a specific restaurant.\")(calculate_overall_score)\n",
        "    entrypoint_agent.register_for_execution(name=\"calculate_overall_score\")(calculate_overall_score)\n",
        "\n",
        "    # TODO\n",
        "    # Fill in the argument to `initiate_chats` below, calling the correct agents sequentially.\n",
        "    # If you decide to use another conversation pattern, feel free to disregard this code.\n",
        "    data_fetch_prompt = get_data_fetch_agent_prompt(user_query)\n",
        "\n",
        "    result = entrypoint_agent.initiate_chat(\n",
        "        recipient=entrypoint_agent,  # Use the ConversableAgent object\n",
        "        message=data_fetch_prompt\n",
        "    )\n",
        "\n",
        "    # Uncomment once you initiate the chat with at least one agent.\n",
        "    # result = entrypoint_agent.initiate_chats([{}])\n",
        "\n",
        "# DO NOT modify this code below.\n",
        "if __name__ == \"__main__\":\n",
        "    assert len(sys.argv) > 1, \"Please ensure you include a query for some restaurant when executing main.\"\n",
        "    main(sys.argv[1])"
      ],
      "metadata": {
        "id": "ahZl_sYqs4of"
      },
      "execution_count": null,
      "outputs": []
    }
  ]
}